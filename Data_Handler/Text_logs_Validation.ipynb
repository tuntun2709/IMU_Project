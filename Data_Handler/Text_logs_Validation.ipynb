{
 "cells": [
  {
   "cell_type": "code",
   "execution_count": 24,
   "metadata": {},
   "outputs": [],
   "source": [
    "import ast"
   ]
  },
  {
   "cell_type": "code",
   "execution_count": 25,
   "metadata": {},
   "outputs": [],
   "source": [
    "flag1 = 0\n",
    "flag2 = 0\n",
    "flag3 = 0\n",
    "flag4 = 0"
   ]
  },
  {
   "cell_type": "code",
   "execution_count": 31,
   "metadata": {},
   "outputs": [],
   "source": [
    "with open('log_list1.txt', 'r') as f:\n",
    "    l = f.read()\n",
    "    f.close()\n",
    "l1 = ast.literal_eval(l)\n",
    "# l1 = l.split(', ')"
   ]
  },
  {
   "cell_type": "code",
   "execution_count": 32,
   "metadata": {},
   "outputs": [
    {
     "name": "stdout",
     "output_type": "stream",
     "text": [
      "31290\n",
      "No missing data. Congrats!\n"
     ]
    }
   ],
   "source": [
    "print(len(l1))\n",
    "for i in range(len(l1)-2):\n",
    "    denta = int(l1[i+1].split(' ')[2]) - int(l1[i].split(' ')[2])\n",
    "    if denta != 1:\n",
    "        flag1 = 1\n",
    "        print(f'log_list 1 is missing data between {i+1} and {i+2} with denta = {denta}')\n",
    "\n",
    "if flag1 == 0:\n",
    "    print('No missing data. Congrats!')\n",
    "    \n"
   ]
  },
  {
   "cell_type": "code",
   "execution_count": 33,
   "metadata": {},
   "outputs": [],
   "source": [
    "with open('log_subtract.txt', 'r') as f:\n",
    "    l = f.read()\n",
    "    f.close()\n",
    "l0 = ast.literal_eval(l)"
   ]
  },
  {
   "cell_type": "code",
   "execution_count": 34,
   "metadata": {},
   "outputs": [
    {
     "data": {
      "text/plain": [
       "31290"
      ]
     },
     "execution_count": 34,
     "metadata": {},
     "output_type": "execute_result"
    }
   ],
   "source": [
    "len(l0)"
   ]
  },
  {
   "cell_type": "code",
   "execution_count": null,
   "metadata": {},
   "outputs": [],
   "source": [
    "for i in range(len(l1)):\n",
    "    print(l1[i])"
   ]
  },
  {
   "cell_type": "code",
   "execution_count": 35,
   "metadata": {},
   "outputs": [
    {
     "name": "stdout",
     "output_type": "stream",
     "text": [
      "32230\n",
      "No missing data. Congrats!\n"
     ]
    }
   ],
   "source": [
    "with open('log_list2.txt', 'r') as f:\n",
    "    l = f.read()\n",
    "    f.close()\n",
    "l2 = ast.literal_eval(l)\n",
    "# l2 = l.split(', ')\n",
    "\n",
    "print(len(l2))\n",
    "for i in range(len(l2)-2):\n",
    "    denta = int(l2[i+1].split(' ')[2]) - int(l2[i].split(' ')[2])\n",
    "    if denta != 1:\n",
    "        flag2 = 1\n",
    "        print(f'log_list 2 is missing data between {i+1} and {i+2} with denta = {denta}')\n",
    "\n",
    "if flag2 == 0:\n",
    "    print('No missing data. Congrats!')\n"
   ]
  },
  {
   "cell_type": "code",
   "execution_count": 37,
   "metadata": {},
   "outputs": [],
   "source": [
    "denta = []\n",
    "for i in range(len(l1)):\n",
    "    denta.append(int(l2[i].split(' ')[2]) - int(l1[i].split(' ')[2]))"
   ]
  },
  {
   "cell_type": "code",
   "execution_count": 39,
   "metadata": {},
   "outputs": [],
   "source": [
    "for i in range(len(denta)):\n",
    "    d = denta[i] - l0[i]\n",
    "    if d != 0:\n",
    "        print('missing data')"
   ]
  },
  {
   "cell_type": "code",
   "execution_count": null,
   "metadata": {},
   "outputs": [],
   "source": [
    "\n",
    "for i in range(len(l2)):\n",
    "    print(l2[i])\n"
   ]
  },
  {
   "cell_type": "code",
   "execution_count": 20,
   "metadata": {},
   "outputs": [
    {
     "name": "stdout",
     "output_type": "stream",
     "text": [
      "10000\n",
      "No missing data. Congrats!\n"
     ]
    }
   ],
   "source": [
    "with open('log_list3.txt', 'r') as f:\n",
    "    l = f.read()\n",
    "    f.close()\n",
    "l3 = ast.literal_eval(l)\n",
    "# l3 = l.split(', ')\n",
    "\n",
    "print(len(l3))\n",
    "for i in range(len(l3)-2):\n",
    "    denta = int(l3[i+1].split(' ')[2]) - int(l3[i].split(' ')[2])\n",
    "    if denta != 1:\n",
    "        flag3 = 1\n",
    "        print(f'log_list 3 is missing data between {i+1} and {i+2} with denta = {denta}')\n",
    "\n",
    "if flag3 == 0:\n",
    "    print('No missing data. Congrats!')\n"
   ]
  },
  {
   "cell_type": "code",
   "execution_count": null,
   "metadata": {},
   "outputs": [],
   "source": [
    "\n",
    "for i in range(len(l3)):\n",
    "    print(l3[i])"
   ]
  },
  {
   "cell_type": "code",
   "execution_count": 23,
   "metadata": {},
   "outputs": [
    {
     "name": "stdout",
     "output_type": "stream",
     "text": [
      "10004\n",
      "No missing data. Congrats!\n"
     ]
    }
   ],
   "source": [
    "with open('log_list4.txt', 'r') as f:\n",
    "    l = f.read()\n",
    "    f.close()\n",
    "l4 = ast.literal_eval(l)\n",
    "# l4 = l.split(', ')\n",
    "\n",
    "print(len(l4))\n",
    "for i in range(len(l4)-2):\n",
    "    denta = int(l4[i+1].split(' ')[2]) - int(l4[i].split(' ')[2])\n",
    "    if denta != 1:\n",
    "        flag4 = 1\n",
    "        print(f'log_list 3 is missing data between {i+1} and {i+2} with denta = {denta}')\n",
    "\n",
    "if flag4 == 0:\n",
    "    print('No missing data. Congrats!')\n"
   ]
  },
  {
   "cell_type": "code",
   "execution_count": null,
   "metadata": {},
   "outputs": [],
   "source": [
    "\n",
    "for i in range(len(l4)):\n",
    "    print(l4[i])"
   ]
  }
 ],
 "metadata": {
  "kernelspec": {
   "display_name": "Komeda",
   "language": "python",
   "name": "python3"
  },
  "language_info": {
   "codemirror_mode": {
    "name": "ipython",
    "version": 3
   },
   "file_extension": ".py",
   "mimetype": "text/x-python",
   "name": "python",
   "nbconvert_exporter": "python",
   "pygments_lexer": "ipython3",
   "version": "3.10.7"
  }
 },
 "nbformat": 4,
 "nbformat_minor": 2
}
