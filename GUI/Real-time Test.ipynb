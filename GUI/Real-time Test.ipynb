{
 "cells": [
  {
   "cell_type": "code",
   "execution_count": 1,
   "metadata": {},
   "outputs": [],
   "source": [
    "import sys\n",
    "from PySide6 import QtWidgets\n",
    "\n",
    "# from PySide6.QtUiTools import QUiLoader\n",
    "# from PySide6 import QtCore, QtGui\n",
    "# from PySide6.QtWidgets import QPushButton\n",
    "# import pyqtgraph as pg\n",
    "# import math\n",
    "# from PySide6.QtCore import QTimer\n",
    "\n",
    "import threading\n",
    "import time\n",
    "from queue import Queue\n",
    "import random\n",
    "from main import MainWindow\n",
    "from PySide6.QtCore import QTimer\n"
   ]
  },
  {
   "cell_type": "code",
   "execution_count": 2,
   "metadata": {},
   "outputs": [],
   "source": [
    "global main_win\n"
   ]
  },
  {
   "cell_type": "code",
   "execution_count": 3,
   "metadata": {},
   "outputs": [],
   "source": [
    "q0 = Queue()\n",
    "def data1():\n",
    "    # x = 0\n",
    "    # y = 0\n",
    "    while True:\n",
    "        # x += 1\n",
    "        # y += 2\n",
    "        # a = [x, y]\n",
    "        a = random.randint(0,10)\n",
    "        q0.put(a)\n",
    "        time.sleep(0.02)"
   ]
  },
  {
   "cell_type": "code",
   "execution_count": 4,
   "metadata": {},
   "outputs": [],
   "source": [
    "def update():\n",
    "    if not q0.empty():\n",
    "        b = q0.get()\n",
    "        main_win.update_plot_data(b=b)\n",
    "    # print(main_win.timer.isActive())"
   ]
  },
  {
   "cell_type": "code",
   "execution_count": 5,
   "metadata": {},
   "outputs": [],
   "source": [
    "def GUI():\n",
    "    global main_win\n",
    "    app = QtWidgets.QApplication(sys.argv)\n",
    "    main_win = MainWindow()\n",
    "    main_win.timer = QTimer()\n",
    "    main_win.timer.setInterval(500)\n",
    "    main_win.timer.timeout.connect(update)\n",
    "    main_win.timer.start()\n",
    "    main_win.show()\n",
    "    sys.exit(app.exec())"
   ]
  },
  {
   "cell_type": "code",
   "execution_count": 6,
   "metadata": {},
   "outputs": [
    {
     "ename": "TypeError",
     "evalue": "'list' object is not callable",
     "output_type": "error",
     "traceback": [
      "\u001b[1;31m---------------------------------------------------------------------------\u001b[0m",
      "\u001b[1;31mTypeError\u001b[0m                                 Traceback (most recent call last)",
      "File \u001b[1;32md:\\EXROBOT\\MAIN\\IMU\\IMU_Project\\GUI\\main.py:185\u001b[0m, in \u001b[0;36mMainWindow.control_bt_smallSize\u001b[1;34m(self, event)\u001b[0m\n\u001b[0;32m    183\u001b[0m \u001b[39mdef\u001b[39;00m \u001b[39mcontrol_bt_smallSize\u001b[39m(\u001b[39mself\u001b[39m, event):\n\u001b[0;32m    184\u001b[0m \t\u001b[39mself\u001b[39m\u001b[39m.\u001b[39mshowNormal()\n\u001b[1;32m--> 185\u001b[0m \t\u001b[39mif\u001b[39;00m \u001b[39mself\u001b[39;49m\u001b[39m.\u001b[39;49my() \u001b[39m<\u001b[39m\u001b[39m=\u001b[39m\u001b[39m20\u001b[39m:\n\u001b[0;32m    186\u001b[0m \t\t\u001b[39mself\u001b[39m\u001b[39m.\u001b[39mmove(\u001b[39m200\u001b[39m , \u001b[39m20\u001b[39m)        \n\u001b[0;32m    187\u001b[0m \t\u001b[39mself\u001b[39m\u001b[39m.\u001b[39muic\u001b[39m.\u001b[39mbt_smallSize\u001b[39m.\u001b[39mhide()\n",
      "\u001b[1;31mTypeError\u001b[0m: 'list' object is not callable"
     ]
    },
    {
     "ename": "AttributeError",
     "evalue": "'MainWindow' object has no attribute 'clients'",
     "output_type": "error",
     "traceback": [
      "\u001b[1;31m---------------------------------------------------------------------------\u001b[0m",
      "\u001b[1;31mAttributeError\u001b[0m                            Traceback (most recent call last)",
      "File \u001b[1;32md:\\EXROBOT\\MAIN\\IMU\\IMU_Project\\GUI\\main.py:172\u001b[0m, in \u001b[0;36mMainWindow.control_bt_close\u001b[1;34m(self)\u001b[0m\n\u001b[0;32m    171\u001b[0m \u001b[39mdef\u001b[39;00m \u001b[39mcontrol_bt_close\u001b[39m(\u001b[39mself\u001b[39m):\n\u001b[1;32m--> 172\u001b[0m \t\u001b[39mfor\u001b[39;00m client \u001b[39min\u001b[39;00m \u001b[39mself\u001b[39;49m\u001b[39m.\u001b[39;49mclients:\n\u001b[0;32m    173\u001b[0m \t\tclient\u001b[39m.\u001b[39mloop_stop()\n\u001b[0;32m    174\u001b[0m \t\u001b[39mfor\u001b[39;00m thread \u001b[39min\u001b[39;00m \u001b[39mself\u001b[39m\u001b[39m.\u001b[39mclient_threads:\n",
      "\u001b[1;31mAttributeError\u001b[0m: 'MainWindow' object has no attribute 'clients'"
     ]
    }
   ],
   "source": [
    "t1 = threading.Thread(target=data1)\n",
    "t2 = threading.Thread(target=GUI)\n",
    "t1.start()\n",
    "t2.start()\n",
    "\n",
    "t1.join()\n",
    "t2.join()"
   ]
  }
 ],
 "metadata": {
  "kernelspec": {
   "display_name": "Komeda",
   "language": "python",
   "name": "python3"
  },
  "language_info": {
   "codemirror_mode": {
    "name": "ipython",
    "version": 3
   },
   "file_extension": ".py",
   "mimetype": "text/x-python",
   "name": "python",
   "nbconvert_exporter": "python",
   "pygments_lexer": "ipython3",
   "version": "3.10.7"
  }
 },
 "nbformat": 4,
 "nbformat_minor": 2
}
