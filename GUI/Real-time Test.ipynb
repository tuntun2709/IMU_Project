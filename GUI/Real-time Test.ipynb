{
 "cells": [
  {
   "cell_type": "code",
   "execution_count": 1,
   "metadata": {},
   "outputs": [],
   "source": [
    "import sys\n",
    "from PySide6 import QtWidgets\n",
    "\n",
    "# from PySide6.QtUiTools import QUiLoader\n",
    "# from PySide6 import QtCore, QtGui\n",
    "# from PySide6.QtWidgets import QPushButton\n",
    "# import pyqtgraph as pg\n",
    "# import math\n",
    "# from PySide6.QtCore import QTimer\n",
    "\n",
    "import threading\n",
    "import time\n",
    "from queue import Queue\n",
    "import random\n",
    "from main import MainWindow\n",
    "from PySide6.QtCore import QTimer\n"
   ]
  },
  {
   "cell_type": "code",
   "execution_count": 2,
   "metadata": {},
   "outputs": [],
   "source": [
    "global main_win\n"
   ]
  },
  {
   "cell_type": "code",
   "execution_count": 3,
   "metadata": {},
   "outputs": [],
   "source": [
    "q0 = Queue()\n",
    "def data1():\n",
    "    # x = 0\n",
    "    # y = 0\n",
    "    while True:\n",
    "        # x += 1\n",
    "        # y += 2\n",
    "        # a = [x, y]\n",
    "        a = random.randint(0,10)\n",
    "        q0.put(a)\n",
    "        time.sleep(0.02)"
   ]
  },
  {
   "cell_type": "code",
   "execution_count": 4,
   "metadata": {},
   "outputs": [],
   "source": [
    "def update():\n",
    "    if not q0.empty():\n",
    "        b = q0.get()\n",
    "        main_win.update_plot_data(b=b)\n",
    "    # print(main_win.timer.isActive())"
   ]
  },
  {
   "cell_type": "code",
   "execution_count": 5,
   "metadata": {},
   "outputs": [],
   "source": [
    "def GUI():\n",
    "    global main_win\n",
    "    app = QtWidgets.QApplication(sys.argv)\n",
    "    main_win = MainWindow()\n",
    "    main_win.timer = QTimer()\n",
    "    main_win.timer.setInterval(500)\n",
    "    main_win.timer.timeout.connect(update)\n",
    "    main_win.timer.start()\n",
    "    main_win.show()\n",
    "    sys.exit(app.exec())"
   ]
  },
  {
   "cell_type": "code",
   "execution_count": 6,
   "metadata": {},
   "outputs": [],
   "source": [
    "t1 = threading.Thread(target=data1)\n",
    "t2 = threading.Thread(target=GUI)\n",
    "t1.start()\n",
    "t2.start()\n",
    "\n",
    "t1.join()\n",
    "t2.join()"
   ]
  }
 ],
 "metadata": {
  "kernelspec": {
   "display_name": "Komeda",
   "language": "python",
   "name": "python3"
  },
  "language_info": {
   "codemirror_mode": {
    "name": "ipython",
    "version": 3
   },
   "file_extension": ".py",
   "mimetype": "text/x-python",
   "name": "python",
   "nbconvert_exporter": "python",
   "pygments_lexer": "ipython3",
   "version": "3.10.7"
  }
 },
 "nbformat": 4,
 "nbformat_minor": 2
}
