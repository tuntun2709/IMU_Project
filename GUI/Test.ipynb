{
 "cells": [
  {
   "cell_type": "code",
   "execution_count": 1,
   "metadata": {},
   "outputs": [],
   "source": [
    "import sys\n",
    "from PySide6 import QtWidgets\n",
    "from PySide6.QtUiTools import QUiLoader\n",
    "from PySide6 import QtCore, QtGui\n",
    "from PySide6.QtWidgets import QPushButton\n",
    "import pyqtgraph as pg\n",
    "import math\n",
    "from PySide6.QtCore import QTimer\n",
    "\n",
    "import threading\n",
    "import time\n",
    "from queue import Queue\n",
    "import random"
   ]
  },
  {
   "cell_type": "code",
   "execution_count": 2,
   "metadata": {},
   "outputs": [],
   "source": [
    "q0 = Queue()\n",
    "def data1():\n",
    "    count = 0\n",
    "    while count < 100:\n",
    "        count += 1\n",
    "        a = [count, random.randint(0,10)]\n",
    "        q0.put(a)\n",
    "        time.sleep(0.05)"
   ]
  },
  {
   "cell_type": "code",
   "execution_count": 3,
   "metadata": {},
   "outputs": [],
   "source": [
    "\n",
    "#-------------------------------------------------------------------------------\n",
    "# function\n",
    "def do_something():\n",
    "    global rowCount    \n",
    "    window.table_data.setRowCount(rowCount)\n",
    "    window.table_data.insertRow(0)\n",
    "    window.table_data.setItem(0, 0, QtWidgets.QTableWidgetItem(window.roll_lineEdit.text()))\n",
    "    window.table_data.setItem(0, 1, QtWidgets.QTableWidgetItem(window.pitch_lineEdit.text()))\n",
    "    window.table_data.setItem(0, 2, QtWidgets.QTableWidgetItem(window.yaw_lineEdit.text()))\n",
    "    rowCount += 1   \n",
    "    \n",
    "\n",
    "def pushButton():\n",
    "    window.setWindowTitle(\"Nothing\")\n",
    "# -------------------------------------------------------------------\n",
    "# -----------------------------------------------------------\n",
    "# setup ui in started\n"
   ]
  },
  {
   "cell_type": "code",
   "execution_count": 4,
   "metadata": {},
   "outputs": [],
   "source": [
    "def update_plot_data():\n",
    "\tb = q0.get()\n",
    "\twindow.x = window.x[1:]  # Remove the first y element.\n",
    "\twindow.x.append(b[0])  # Add a new value 1 higher than the last.\n",
    "\n",
    "\twindow.y = window.y[1:]  # Remove the first\n",
    "\twindow.y.append(b[1])  # Add a new random value.\n",
    "\n",
    "\twindow.data_line.setData(window.x, window.y)  # Update the data."
   ]
  },
  {
   "cell_type": "code",
   "execution_count": 5,
   "metadata": {},
   "outputs": [],
   "source": [
    "loader = QUiLoader()\n",
    "rowCount = 0\n",
    "app = QtWidgets.QApplication(sys.argv)\n",
    "window = loader.load(\"mainwindow.ui\", None)\n",
    "window.timer = QTimer()\n",
    "window.timer.setInterval(50)\n",
    "window.timer.timeout.connect(update_plot_data)\n",
    "window.timer.start()"
   ]
  },
  {
   "cell_type": "code",
   "execution_count": 6,
   "metadata": {},
   "outputs": [],
   "source": [
    "def GUI():\n",
    "\n",
    "    window.setWindowTitle(\"IMU-FMA\")\n",
    "    window.table_data.setColumnWidth(0,150)\n",
    "    window.table_data.setColumnWidth(1,150)\n",
    "    window.table_data.setColumnWidth(2,150)\n",
    "    window.submit_button.clicked.connect(do_something)\n",
    "\n",
    "\n",
    "    # window.graphWidget = pg.PlotWidget(window.lineChartWidget)\n",
    "    # # hour = [1,2,3,4,5,6,7,8,9,10]\n",
    "    # # temperature = [30,32,34,32,33,31,29,32,35,45]\n",
    "    # window.x = [0]\n",
    "    # window.y = [0]\n",
    "    # window.graphWidget.setGeometry(QtCore.QRect(0, 0, 500, 300))\n",
    "    # window.graphWidget.setBackground('w')\n",
    "    # pen = pg.mkPen(color=(39, 164, 242), width=5)\n",
    "    # window.data_line =  window.graphWidget.plot(window.x, window.y, pen= pen)\n",
    "    # window.graphWidget.resize(500,255)\n",
    "\n",
    "\n",
    "    hour1 = [1,2,3,4]\n",
    "    temperature1 = [30,32,34,32]\n",
    "    l_back = 400\n",
    "    l_thigh = 400\n",
    "    l_shin = 380\n",
    "    l_foot = 200\n",
    "    x0 = 0\n",
    "    y0 = 0\n",
    "    x1 = x0 + l_back*math.cos(math.radians(-90))\n",
    "    y1 = y0 + l_back*math.sin(math.radians(-90))\n",
    "    x2 = x1 + l_thigh*math.cos(math.radians(-40))\n",
    "    y2 = y1 + l_thigh*math.sin(math.radians(-40))\n",
    "    x3 = x2 + l_shin*math.cos(math.radians(-70))\n",
    "    y3 = y2 + l_shin*math.sin(math.radians(-70))\n",
    "    x4 = x3 + l_foot*math.cos(math.radians(-10))\n",
    "    y4 = y3 + l_foot*math.sin(math.radians(-10))\n",
    "    window.graphWidget2 = pg.PlotWidget(window.lineChartWidget)\n",
    "    window.graphWidget2.setGeometry(QtCore.QRect(0, 260, 500, 300))\n",
    "    window.graphWidget2.setBackground('w')\n",
    "\n",
    "    pen1 = pg.mkPen(color=(39, 164, 242), width=30)\n",
    "    pen2 = pg.mkPen(color=(62, 174, 244), width=25)\n",
    "    pen3 = pg.mkPen(color=(110, 194, 247), width=20)\n",
    "    pen4 = pg.mkPen(color=(159, 215, 248), width=15)\n",
    "    window.graphWidget2.setXRange(-100, 1500, padding=0)\n",
    "    window.graphWidget2.setYRange(-1500, 100, padding=0)\n",
    "\n",
    "    window.graphWidget2.plot([x3,x4], [y3,y4], pen= pen4, symbol = 'o')\n",
    "    window.graphWidget2.plot([x2,x3], [y2,y3], pen= pen3, symbol = 'o')\n",
    "    window.graphWidget2.plot([x1,x2], [y1,y2], pen= pen2, symbol = 'o')\n",
    "    window.graphWidget2.plot([x0,x1], [y0,y1], pen= pen1, symbol = 'o')\n",
    "    window.graphWidget2.resize(500,500)\n",
    "\n",
    "    #---------------------------------------------------------------\n",
    "\n",
    "\n",
    "    window.show()\n",
    "\n",
    "    app.exec()\n"
   ]
  },
  {
   "cell_type": "code",
   "execution_count": 7,
   "metadata": {},
   "outputs": [],
   "source": [
    "t1 = threading.Thread(target=data1)\n",
    "t2 = threading.Thread(target=GUI)\n",
    "\n",
    "t1.start()\n",
    "t2.start()\n",
    "\n",
    "t1.join()\n",
    "t2.join()"
   ]
  }
 ],
 "metadata": {
  "kernelspec": {
   "display_name": "Komeda",
   "language": "python",
   "name": "python3"
  },
  "language_info": {
   "codemirror_mode": {
    "name": "ipython",
    "version": 3
   },
   "file_extension": ".py",
   "mimetype": "text/x-python",
   "name": "python",
   "nbconvert_exporter": "python",
   "pygments_lexer": "ipython3",
   "version": "3.10.7"
  }
 },
 "nbformat": 4,
 "nbformat_minor": 2
}
