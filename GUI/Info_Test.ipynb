{
 "cells": [
  {
   "cell_type": "code",
   "execution_count": 1,
   "metadata": {},
   "outputs": [],
   "source": [
    "d = {1: {'name': 'a b c', 'cccd': 1234}, 2: {'name': 'a b d', 'cccd': 12345}, 3: {'name': 'a b e', 'cccd': 12347}}"
   ]
  },
  {
   "cell_type": "code",
   "execution_count": 14,
   "metadata": {},
   "outputs": [
    {
     "name": "stdout",
     "output_type": "stream",
     "text": [
      "{'name': 'a b c', 'cccd': 1234}\n",
      "{'name': 'a b d', 'cccd': 12345}\n",
      "{'name': 'a b e', 'cccd': 12347}\n"
     ]
    }
   ],
   "source": [
    "for person in list(d.values()):\n",
    "    if 'a' in person['name']:\n",
    "        print(person)"
   ]
  },
  {
   "cell_type": "code",
   "execution_count": 11,
   "metadata": {},
   "outputs": [
    {
     "data": {
      "text/plain": [
       "True"
      ]
     },
     "execution_count": 11,
     "metadata": {},
     "output_type": "execute_result"
    }
   ],
   "source": [
    "'c' in 'a b c'"
   ]
  },
  {
   "cell_type": "code",
   "execution_count": 24,
   "metadata": {},
   "outputs": [],
   "source": [
    "d[len(d)+1] = {'name': 'a b f', 'cccd' : '1234567'} "
   ]
  },
  {
   "cell_type": "code",
   "execution_count": 25,
   "metadata": {},
   "outputs": [
    {
     "data": {
      "text/plain": [
       "{1: {'name': 'a b c', 'cccd': 1234},\n",
       " 2: {'name': 'a b d', 'cccd': 12345},\n",
       " 3: {'name': 'a b f'},\n",
       " 4: {'name': 'a b f', 'cccd': '1234567'},\n",
       " 5: {'name': 'a b f', 'cccd': '1234567'},\n",
       " 6: {'name': 'a b f', 'cccd': '1234567'}}"
      ]
     },
     "execution_count": 25,
     "metadata": {},
     "output_type": "execute_result"
    }
   ],
   "source": [
    "d"
   ]
  },
  {
   "cell_type": "code",
   "execution_count": 2,
   "metadata": {},
   "outputs": [],
   "source": [
    "import json\n",
    "\n",
    "with open('sample.json', 'w') as f:\n",
    "    json.dump(d, f, indent=4)\n",
    "    f.close()\n"
   ]
  },
  {
   "cell_type": "code",
   "execution_count": 4,
   "metadata": {},
   "outputs": [],
   "source": [
    "with open('sample.json', 'r') as f:\n",
    "    e = json.load(f)\n",
    "    f.close()\n",
    "\n"
   ]
  }
 ],
 "metadata": {
  "kernelspec": {
   "display_name": "Komeda",
   "language": "python",
   "name": "python3"
  },
  "language_info": {
   "codemirror_mode": {
    "name": "ipython",
    "version": 3
   },
   "file_extension": ".py",
   "mimetype": "text/x-python",
   "name": "python",
   "nbconvert_exporter": "python",
   "pygments_lexer": "ipython3",
   "version": "3.10.7"
  }
 },
 "nbformat": 4,
 "nbformat_minor": 2
}
